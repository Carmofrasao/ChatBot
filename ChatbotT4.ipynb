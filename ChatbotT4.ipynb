{
 "cells": [
  {
   "cell_type": "markdown",
   "id": "3dc947f3",
   "metadata": {},
   "source": [
    "### Chatbot"
   ]
  },
  {
   "cell_type": "code",
   "execution_count": 1,
   "id": "0a991c42",
   "metadata": {},
   "outputs": [
    {
     "name": "stdout",
     "output_type": "stream",
     "text": [
      "\u001b[38;5;2m✔ Download and installation successful\u001b[0m\n",
      "You can now load the package via spacy.load('en_core_web_sm')\n"
     ]
    }
   ],
   "source": [
    "from chatterbot import ChatBot\n",
    "from chatterbot.trainers import ListTrainer\n",
    "\n",
    "# isso aqui só precisa para corrigir o bug\n",
    "from spacy.cli import download\n",
    "\n",
    "download(\"en_core_web_sm\")\n",
    "\n",
    "class ENGSM:\n",
    "    ISO_639_1 = 'en_core_web_sm'\n"
   ]
  },
  {
   "cell_type": "code",
   "execution_count": 3,
   "id": "d175ad93",
   "metadata": {},
   "outputs": [
    {
     "name": "stdout",
     "output_type": "stream",
     "text": [
      "List Trainer: [####################] 100%\n"
     ]
    }
   ],
   "source": [
    "chatbot = ChatBot(\"MeuBot\", tagger_language=ENGSM)\n",
    "\n",
    "conversa = [\n",
    "    \"Ola\",\n",
    "    \"Bom dia\",\n",
    "    \"Tudo bem?\",\n",
    "    \"Sim e você?\",\n",
    "    \"Estou bem.\",\n",
    "    \"Deseja algo?\",\n",
    "    \"Só estou de passagem\",\n",
    "    \"Qualquer coisa só chamar!\",\n",
    "    \"Ok!\",\n",
    "    \"Preciso de algo.\",\n",
    "    \"O que seria?\",\n",
    "    \"Gostaria de comprar uma coisa.\",\n",
    "    \"E o que seria?\",\n",
    "    \"Um pão\",\n",
    "    \"Um só?\",\n",
    "    \"Sim\",\n",
    "    \"Algo mais?\",\n",
    "    \"Um tenis\",\n",
    "    \"Muito bem, irei buscar!\"\n",
    "]\n",
    "trainer = ListTrainer(chatbot)\n",
    "trainer.train(conversa)"
   ]
  },
  {
   "cell_type": "code",
   "execution_count": null,
   "id": "8e3299f9",
   "metadata": {},
   "outputs": [
    {
     "name": "stdout",
     "output_type": "stream",
     "text": [
      "Mande uma mensagem para o chatbot:ola\n",
      "Bom dia\n",
      "Mande uma mensagem para o chatbot:bom dia\n",
      "Tudo bem?\n",
      "Mande uma mensagem para o chatbot:sim, e você?\n",
      "Estou bem.\n",
      "Mande uma mensagem para o chatbot:que bom\n",
      "Tá errado que não tem\n",
      "Mande uma mensagem para o chatbot:o que?\n",
      "Tranquilo\n",
      "Mande uma mensagem para o chatbot:ok\n",
      "Preciso de algo.\n",
      "Mande uma mensagem para o chatbot:sim\n",
      "Algo mais?\n",
      "Mande uma mensagem para o chatbot:mas nem pedi ainda\n",
      "oi\n",
      "Mande uma mensagem para o chatbot:oi\n",
      "Em um país tankável geralmente\n",
      "Mande uma mensagem para o chatbot:que pais?\n",
      "Preciso de algo.\n",
      "Mande uma mensagem para o chatbot:sim\n",
      "Algo mais?\n",
      "Mande uma mensagem para o chatbot:o que?\n",
      "Em um país tankável geralmente\n",
      "Mande uma mensagem para o chatbot:voce ja falou\n",
      "é o ato de concordar\n",
      "Mande uma mensagem para o chatbot:que?\n",
      "Maneiro né\n",
      "Mande uma mensagem para o chatbot:não\n",
      "meio que a ideia de juntar universidade com empresas\n",
      "Mande uma mensagem para o chatbot:do que você esta falando?\n",
      "hoje se tem alguns profs do dinf saindo do brasil e indo para europa, que tão ganhando bem mais e trabalhando bem menos\n",
      "Mande uma mensagem para o chatbot:tambem quero\n",
      "Trabalho de IA!\n",
      "Mande uma mensagem para o chatbot:talvez\n",
      "Maneiro né\n",
      "Mande uma mensagem para o chatbot:sim?\n",
      "O que me pega é a área, Bcc a 10 anos atrás tinha quanta oportunidade? Hoje tem quantas? Muita, se for comparar com qualquer outra coisa\n",
      "Mande uma mensagem para o chatbot:serio?\n",
      "se ja disse\n",
      "Mande uma mensagem para o chatbot:então ta bom\n",
      "Irado\n",
      "Mande uma mensagem para o chatbot:sim\n",
      "Algo mais?\n",
      "Mande uma mensagem para o chatbot:um tenis\n",
      "Muito bem, irei buscar!\n",
      "Mande uma mensagem para o chatbot:beleza\n",
      "isso é bom\n",
      "Mande uma mensagem para o chatbot:sim\n",
      "Algo mais?\n",
      "Mande uma mensagem para o chatbot:não\n",
      "hoje se tem alguns profs do dinf saindo do brasil e indo para europa, que tão ganhando bem mais e trabalhando bem menos\n",
      "Mande uma mensagem para o chatbot:você ja falou\n",
      "Tranquilo\n",
      "Mande uma mensagem para o chatbot:eu sei\n",
      "beleza\n",
      "Mande uma mensagem para o chatbot:beleza\n",
      "a\n",
      "Mande uma mensagem para o chatbot:b\n",
      "Trabalho de IA!\n",
      "Mande uma mensagem para o chatbot:sim\n",
      "Algo mais?\n",
      "Mande uma mensagem para o chatbot:não\n",
      "Preciso de algo.\n",
      "Mande uma mensagem para o chatbot:ja falei que não\n",
      "Maneiro né\n",
      "Mande uma mensagem para o chatbot:sim\n",
      "Algo mais?\n"
     ]
    }
   ],
   "source": [
    "while True:\n",
    "    mensagem = input(\"Mande uma mensagem para o chatbot:\")\n",
    "    if mensagem == \"parar\":\n",
    "        break\n",
    "    resposta = chatbot.get_response(mensagem)\n",
    "    print(resposta)"
   ]
  }
 ],
 "metadata": {
  "kernelspec": {
   "display_name": "Python 3",
   "language": "python",
   "name": "python3"
  },
  "language_info": {
   "codemirror_mode": {
    "name": "ipython",
    "version": 3
   },
   "file_extension": ".py",
   "mimetype": "text/x-python",
   "name": "python",
   "nbconvert_exporter": "python",
   "pygments_lexer": "ipython3",
   "version": "3.6.13"
  }
 },
 "nbformat": 4,
 "nbformat_minor": 5
}
