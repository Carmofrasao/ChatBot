{
 "cells": [
  {
   "cell_type": "markdown",
   "id": "3dc947f3",
   "metadata": {},
   "source": [
    "### Chatbot"
   ]
  },
  {
   "cell_type": "code",
   "execution_count": 1,
   "id": "0a991c42",
   "metadata": {},
   "outputs": [
    {
     "name": "stdout",
     "output_type": "stream",
     "text": [
      "\u001b[38;5;2m✔ Download and installation successful\u001b[0m\n",
      "You can now load the package via spacy.load('en_core_web_sm')\n"
     ]
    }
   ],
   "source": [
    "from chatterbot import ChatBot\n",
    "from chatterbot.trainers import ListTrainer\n",
    "\n",
    "# isso aqui só precisa para corrigir o bug\n",
    "from spacy.cli import download\n",
    "\n",
    "download(\"en_core_web_sm\")\n",
    "\n",
    "class ENGSM:\n",
    "    ISO_639_1 = 'en_core_web_sm'\n"
   ]
  },
  {
   "cell_type": "code",
   "execution_count": 2,
   "id": "d175ad93",
   "metadata": {},
   "outputs": [
    {
     "name": "stdout",
     "output_type": "stream",
     "text": [
      "List Trainer: [####################] 100%\n"
     ]
    }
   ],
   "source": [
    "chatbot = ChatBot(\"MeuBot\", tagger_language=ENGSM)\n",
    "\n",
    "conversa = [\n",
    "    \"Coe\",\n",
    "    \"E aí, tranquilo?\",\n",
    "    \"Tranquilo\",\n",
    "    \"Qual a boa de hoje?\",\n",
    "    \"Trabalho de IA!\",\n",
    "    \"Caraca que doidera\",\n",
    "    \"Maneiro né\",\n",
    "    \"Irado\",\n",
    "    \"então se olhar no portal da transparencia maioria dos profs do dinf ganham mais de 10k, mas tipo, inicial é 8k, por 10 anos de estudo\",\n",
    "    \"O que me pega é a área, Bcc a 10 anos atrás tinha quanta oportunidade? Hoje tem quantas? Muita, se for comparar com qualquer outra coisa\",\n",
    "    \"hoje se tem alguns profs do dinf saindo do brasil e indo para europa, que tão ganhando bem mais e trabalhando bem menos\",\n",
    "    \"Ganham menos que os europeus ou igual? Deve ser igual\",\n",
    "    \"idk, mas empresas remunera melhor quem tem qualificação extra e jornada não é sempre 40 horas\",\n",
    "    \"E você mora na Europa\",\n",
    "    \"Em um país tankável geralmente\",\n",
    "    \"super moraria na republica tcheca\",\n",
    "    \"Praga é lindo\",\n",
    "    \"tem um centro de big tech em uma cidade a uns 100 km de praga\",\n",
    "    \"https://pt.wikipedia.org/wiki/Brno\",\n",
    "    \"Três consoantes\",\n",
    "    \"21% da cidade é estudante\",\n",
    "    \"Segunda maior cidade do país\",\n",
    "    \"Assim que é bom\",\n",
    "    \"Esse lugar tem que dar certo\",\n",
    "    \"e tem empresa de tecnologia com sede lá\",\n",
    "    \"Tá errado que não tem\",\n",
    "    \"meio que a ideia de juntar universidade com empresas\",\n",
    "    \"redhat tinha coisa la e opennebula tmb\",\n",
    "    \"mas agora não achei mais no site do opennebula\",\n",
    "    \"Maluco vai fazer um doutorado aí com a ideia de não voltar mais\",\n",
    "]\n",
    "\n",
    "trainer = ListTrainer(chatbot)\n",
    "trainer.train(conversa)"
   ]
  },
  {
   "cell_type": "code",
   "execution_count": null,
   "id": "8e3299f9",
   "metadata": {},
   "outputs": [
    {
     "name": "stdout",
     "output_type": "stream",
     "text": [
      "Mande uma mensagem para o chatbot:ola\n",
      "redhat tinha coisa la e opennebula tmb\n",
      "Mande uma mensagem para o chatbot:sera?\n",
      "Assim que é bom\n",
      "Mande uma mensagem para o chatbot:não sei\n",
      "Irado\n",
      "Mande uma mensagem para o chatbot:talvez\n",
      "meio que a ideia de juntar universidade com empresas\n",
      "Mande uma mensagem para o chatbot:isso parece bom\n",
      "Tá errado que não tem\n",
      "Mande uma mensagem para o chatbot:justo\n",
      "redhat tinha coisa la e opennebula tmb\n",
      "Mande uma mensagem para o chatbot:se ja disse\n",
      "Três consoantes\n",
      "Mande uma mensagem para o chatbot:onde?\n",
      "Caraca que doidera\n",
      "Mande uma mensagem para o chatbot:por que?\n",
      "idk, mas empresas remunera melhor quem tem qualificação extra e jornada não é sempre 40 horas\n",
      "Mande uma mensagem para o chatbot:então é bom\n",
      "E você mora na Europa\n",
      "Mande uma mensagem para o chatbot:bora?\n",
      "talvez\n",
      "Mande uma mensagem para o chatbot:ae sim\n",
      "https://pt.wikipedia.org/wiki/Brno\n",
      "Mande uma mensagem para o chatbot:o que é isso?\n",
      "idk, mas empresas remunera melhor quem tem qualificação extra e jornada não é sempre 40 horas\n",
      "Mande uma mensagem para o chatbot:você ja falou isso\n",
      "isso parece bom\n",
      "Mande uma mensagem para o chatbot:acho que não\n",
      "idk, mas empresas remunera melhor quem tem qualificação extra e jornada não é sempre 40 horas\n",
      "Mande uma mensagem para o chatbot:para, eu ja sei\n",
      "idk, mas empresas remunera melhor quem tem qualificação extra e jornada não é sempre 40 horas\n",
      "Mande uma mensagem para o chatbot:por que?????????\n",
      "Segunda maior cidade do país\n",
      "Mande uma mensagem para o chatbot:beleza\n",
      "Maluco vai fazer um doutorado aí com a ideia de não voltar mais\n",
      "Mande uma mensagem para o chatbot:concordo\n",
      "o que é isso?\n",
      "Mande uma mensagem para o chatbot:é o ato de concordar\n",
      "Caraca que doidera\n",
      "Mande uma mensagem para o chatbot:sim, muita\n",
      "Maluco vai fazer um doutorado aí com a ideia de não voltar mais\n",
      "Mande uma mensagem para o chatbot:de novo?\n",
      "não sei\n",
      "Mande uma mensagem para o chatbot:é voce quem disse\n",
      "meio que a ideia de juntar universidade com empresas\n",
      "Mande uma mensagem para o chatbot:eu sei, voce ja falou\n",
      "isso parece bom\n",
      "Mande uma mensagem para o chatbot:não é bom\n",
      "E você mora na Europa\n",
      "Mande uma mensagem para o chatbot:você ja disse\n",
      "tem um centro de big tech em uma cidade a uns 100 km de praga\n",
      "Mande uma mensagem para o chatbot:muito longe\n",
      "onde?\n",
      "Mande uma mensagem para o chatbot:100km de praga ué\n",
      "Trabalho de IA!\n",
      "Mande uma mensagem para o chatbot:to fazendo\n",
      "isso parece bom\n",
      "Mande uma mensagem para o chatbot:isso é bom\n",
      "E você mora na Europa\n",
      "Mande uma mensagem para o chatbot:eu ja sei\n",
      "o que é isso?\n",
      "Mande uma mensagem para o chatbot:isso o que??\n",
      "Maneiro né\n",
      "Mande uma mensagem para o chatbot:não sei, isso o que?\n",
      "idk, mas empresas remunera melhor quem tem qualificação extra e jornada não é sempre 40 horas\n",
      "Mande uma mensagem para o chatbot:ta de sacanagem[\n"
     ]
    }
   ],
   "source": [
    "while True:\n",
    "    mensagem = input(\"Mande uma mensagem para o chatbot:\")\n",
    "    if mensagem == \"parar\":\n",
    "        break\n",
    "    resposta = chatbot.get_response(mensagem)\n",
    "    print(resposta)"
   ]
  }
 ],
 "metadata": {
  "kernelspec": {
   "display_name": "Python 3",
   "language": "python",
   "name": "python3"
  },
  "language_info": {
   "codemirror_mode": {
    "name": "ipython",
    "version": 3
   },
   "file_extension": ".py",
   "mimetype": "text/x-python",
   "name": "python",
   "nbconvert_exporter": "python",
   "pygments_lexer": "ipython3",
   "version": "3.6.13"
  }
 },
 "nbformat": 4,
 "nbformat_minor": 5
}
